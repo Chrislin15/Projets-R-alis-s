{
 "cells": [
  {
   "cell_type": "markdown",
   "id": "95d3c03d",
   "metadata": {},
   "source": [
    "<br><br>"
   ]
  },
  {
   "cell_type": "markdown",
   "id": "7a1401b3",
   "metadata": {},
   "source": [
    "<div style=\"border:3px solid black; padding:3%; font-size:314% ; text-align:center; background-color:#EE6565; border-radius:50px\">Marche aléatoire</div>\n",
    "<br>\n",
    "<center>Par CYPRIEN Chrislin et DORISMOND Samuel.</center>"
   ]
  },
  {
   "cell_type": "markdown",
   "id": "0e48af5a",
   "metadata": {},
   "source": [
    "Dans le cadre de la SAE 202 : <strong>Exploration algorithmique d'un problème</strong> Il nous a été demandé de réaliser un projet mathématiques et informatique. <br>Après concertation avec notre professeur Mr.Cros nous avons choisis de réaliser le projet : <strong>Marche aléatoire.</strong>"
   ]
  },
  {
   "cell_type": "markdown",
   "id": "e3e10404",
   "metadata": {},
   "source": [
    "<div style=\"border:1px solid black; padding:2%; font-size:200% ; text-align:center; background-color:#72DDEE; border-radius:50px\">Description du projet</div>\n",
    "<br><br>\n",
    "Voici la description qui nous a été donnée :\n",
    "<br>\n",
    "<ul>\n",
    "    <li><strong>Niveau</strong> : ☆☆ </li>\n",
    "    <li><strong>Description</strong> : Partant de 0 un point se déplace de manière équiprobable en haut, en bas, à gauche ou à droite. <br>Est-ce que le point reviendra à l'origine ?</li>\n",
    "    <li><strong>Animation</strong> :  Le mouvement du point dans le plan jusqu'à ce qu'il revienne en 0.</li>\n",
    "</ul>"
   ]
  },
  {
   "cell_type": "markdown",
   "id": "e92d60c5",
   "metadata": {},
   "source": [
    "En effet l'un des objectifs du projet est, entre autres, de réaliser au moins une animation. Pour ce faire nous avons entièrement réalisé le TP dédié (disponible en ligne <a href=\"https://www.ataraxy.info/COEUR/Modules/MethodesNumeriques/TP/Graphiques%20et%20animations-CORRECTION.html\">ici</a>).\n",
    "<br>\n",
    "<ul>\n",
    "    <li>\n",
    "        <strong>Samuel</strong> : modélisation informatique de point et droite et rédaction de ce rapport.\n",
    "    </li>\n",
    "    <li>\n",
    "        <strong>Chrislin</strong> : modélisation informatique de hauteur et calcul d'orthocentre et réalisation des animations.\n",
    "    </li>\n",
    "</ul>\n",
    "<br>\n",
    "Malgré cette division, nous avons participé collégialement à l'intégralité du projet et échangé chacun avec l'autre au travers d'un canal discord privé créé spécialement pour ce travail."
   ]
  },
  {
   "cell_type": "markdown",
   "id": "7ac00868",
   "metadata": {},
   "source": [
    "<h3>Histoire de la Marche aléatoire :</h3>\n",
    "<br>\n",
    "L’idée de la marche aléatoire à été introduite en 1905 par Karl Pearson qui est un biostatisticien. Il l’a créé pour mieux comprendre les migrations d’une population de moustiques.\n",
    "<br><br>\n",
    "L'expression « marche aléatoire » n'a été introduite que vers 1919-1921 par le mathématicien hongrois George Pólya.\n",
    "\n",
    "<h3>L'utilisation de la Marche aléatoire :</h3>\n",
    "\n",
    "Il s’agit d’une modélisation mathématique qui permet de rendre compte de certains phénomènes naturels, par exemple, le plus fameux est le mouvement brownien. Qui correspond aux mouvements en apparence aléatoires des particules présentes dans le fluide du pollen.\n",
    "<br><br>\n",
    "En mathématiques ou en informatique, on étudie souvent des marches au hasard sur des réseaux réguliers ou sur des graphes plus complexes. C'est par exemple la méthode utilisée par le moteur de recherche Google pour parcourir, identifier et classer les pages du réseau internet.\n",
    "\n",
    "<h3>Domaine de la Marche Aléatoire :</h3>\n",
    "\n",
    "La marche aléatoire appartient au domaine de la théorie des probabilités.\n",
    "Il s’agit d’un processus stochastique du type chaîne de Markov.  Une marche aléatoire est en effet un processus stochastique du type <a href=\"https://www.techno-science.net/glossaire-definition/Chaine-de-Markov.html\">chaîne de Markov</a>. \n",
    "<br><br>\n",
    "Processus stochastique aussi appelé processus aléatoire représente une évolution, discrète ou à temps continu, d'une variable aléatoire. Celle-ci intervient dans le calcul classique des probabilités, où elle mesure chaque résultat possible (ou réalisation) d'une épreuve.\n",
    "\n",
    "Elle se décompose en unités élémentaires appelées pas, dont la <a href=\"https://www.techno-science.net/glossaire-definition/Longueur.html\">longueur</a> peut être elle-même constante, aléatoire ou fixée par le réseau ou le <a href=\"https://www.techno-science.net/definition/6449.html\">graphe</a> sur lequel on circule. À chaque pas, on a donc un éventail de possibilités pour choisir au hasard la direction et la grandeur du pas. Cet éventail de possibilités peut être discret (choix parmi un <a href=\"https://www.techno-science.net/glossaire-definition/Nombre.html\">nombre</a> fini de valeurs), ou continu."
   ]
  },
  {
   "cell_type": "markdown",
   "id": "4abd4a36",
   "metadata": {},
   "source": [
    "<div style=\"border:1px solid black; padding:2%; font-size:200% ; text-align:center; background-color:#72DDEE; border-radius:50px\">Bibliothèques</div>\n",
    "<br><br>\n",
    "Voici les bibliothèques dont nous aurons besoin pour l'exécution des programmes proposés."
   ]
  },
  {
   "cell_type": "code",
   "execution_count": 1,
   "id": "50a440a5",
   "metadata": {},
   "outputs": [],
   "source": [
    "#Fonction aléatoire\n",
    "from random import *\n",
    "import IPython.display as display"
   ]
  },
  {
   "cell_type": "markdown",
   "id": "4342028b",
   "metadata": {},
   "source": [
    "<div style=\"border:1px solid black; padding:2%; font-size:200% ; text-align:center; background-color:#72DDEE; border-radius:50px\">Point dans le plan</div>\n",
    "<br><br>\n",
    "Nous allons commencer le projet par <strong>son initialisation</strong> :\n",
    "<br></br>"
   ]
  },
  {
   "cell_type": "markdown",
   "id": "dcc66719",
   "metadata": {},
   "source": [
    "<img src=\"point-Origine.png\" style=\"width:400px; margin-left:0px;\" />"
   ]
  },
  {
   "cell_type": "markdown",
   "id": "6e983bbb",
   "metadata": {},
   "source": [
    "On crée un point contenant deux informations : l'abscisse et l'ordonnée. <br>Informatiquement, le point est un tableau dont son absicisse est stocké dans l'indice [0] et l'ordonnée dans l'indice [1]."
   ]
  },
  {
   "cell_type": "code",
   "execution_count": 2,
   "id": "30ec8c42",
   "metadata": {},
   "outputs": [
    {
     "name": "stdout",
     "output_type": "stream",
     "text": [
      "Abscisse de [0, 1] : 0\n",
      "Ordonnée de [0, 1] : 1\n"
     ]
    }
   ],
   "source": [
    "point = [0, 1]\n",
    "print(\"Abscisse de\", point, \":\", point[0])\n",
    "print(\"Ordonnée de\", point, \":\", point[1])"
   ]
  },
  {
   "cell_type": "markdown",
   "id": "39e1a966",
   "metadata": {},
   "source": [
    "Pour effectuer le projet, à l'instant 0 : le point est placé à l'origine du repère donc l'abscisse et l'ordonnée sont égals à 0."
   ]
  },
  {
   "cell_type": "markdown",
   "id": "4edfdc9f",
   "metadata": {},
   "source": [
    "<div style=\"border:1px solid black; padding:2%; font-size:200% ; text-align:center; background-color:#72DDEE; border-radius:50px\">Solution du projet</div>\n",
    "<br><br>\n",
    "Nous allons résoudre le problème de la marche aléatoire en prouvant que \n",
    "<ol>\n",
    "    <li>le point <strong>reviendra à son point d'origine</strong></li>\n",
    "    <li><strong>la probabilité qu'il revienne est non nulle</strong></li>\n",
    "</ol>"
   ]
  },
  {
   "cell_type": "markdown",
   "id": "e385d403",
   "metadata": {},
   "source": [
    "<div style=\"border:1px solid black; padding:1%; font-size:150% ; text-align:center; background-color:lightblue; border-radius:50px; width:80%;\">1. Modélisation de la marche Aléatoire.</div>"
   ]
  },
  {
   "cell_type": "markdown",
   "id": "04c43cd3",
   "metadata": {},
   "source": [
    "<h3>1. <code>pasAléatoire</code></h3>\n",
    "<br>\n",
    "Cette fonction ajoute ou retire 1 pas soit dans l'abscisse soit dans l'ordonné du point. Cela permet de modéliser le pas aléatoire du point car si <strong>l'abscisse = -1</strong> alors le point recule et si <strong>l'ordonnée = 1</strong> alors le point monte etc."
   ]
  },
  {
   "cell_type": "code",
   "execution_count": 5,
   "id": "6d767c4e",
   "metadata": {},
   "outputs": [
    {
     "name": "stdout",
     "output_type": "stream",
     "text": [
      "pasAléatoire du point : [0, 1]\n",
      "-----------------------------\n",
      "\n",
      "pasAléatoire du point : [1, 0]\n",
      "-----------------------------\n",
      "\n",
      "pasAléatoire du point : [1, 0]\n",
      "-----------------------------\n",
      "\n",
      "pasAléatoire du point : [0, -1]\n",
      "-----------------------------\n",
      "\n",
      "pasAléatoire du point : [0, 1]\n",
      "-----------------------------\n",
      "\n"
     ]
    }
   ],
   "source": [
    "def pasAleatoire(tab):\n",
    "    valeur = randint(1,2)\n",
    "    \n",
    "    if valeur == 1:\n",
    "        tab[0] += randrange(-1, 3, 2)\n",
    "    else :\n",
    "        tab[1] += randrange(-1, 3, 2)\n",
    "    return tab\n",
    "\n",
    "\n",
    "for i in range(5):\n",
    "    point = [0, 0]\n",
    "    print(\"pasAléatoire du point :\", pasAleatoire(point))\n",
    "    print(\"-----------------------------\")\n",
    "    print(\"\")"
   ]
  },
  {
   "cell_type": "markdown",
   "id": "c6dc903e",
   "metadata": {},
   "source": [
    "<br><br><br><br><br>"
   ]
  },
  {
   "cell_type": "markdown",
   "id": "76c7a3ba",
   "metadata": {},
   "source": [
    "<h3>2. <code>marcheAleatoire</code></h3>\n",
    "<br>\n",
    "Cette fonction prend la position initiale du point et effectue un ensemble de pas aléatoire et s'arrête si et seulement si le point est revenu à <strong>[0, 0]</strong>.\n",
    "<br>\n",
    "Elle retourne le nombre de pas effectué jusqu'à le point soit revenu à l'origine du repère.\n",
    "<br><br>\n",
    "<em>Ps : Attention, on a limité la marche aléatoire à 1000 pas pour économiser des ressources de l'ordinateur. Si le nombre de pas dépasse 1000, la fonction retourne <code>None</code></em>.\n",
    "<br><br>"
   ]
  },
  {
   "cell_type": "code",
   "execution_count": 9,
   "id": "277a0c91",
   "metadata": {},
   "outputs": [
    {
     "name": "stdout",
     "output_type": "stream",
     "text": [
      "le point a fait : None pas avant d'arriver à [0, 0]\n",
      "------------------------------------------------------\n",
      "\n",
      "le point a fait : 2 pas avant d'arriver à [0, 0]\n",
      "------------------------------------------------------\n",
      "\n",
      "le point a fait : 34 pas avant d'arriver à [0, 0]\n",
      "------------------------------------------------------\n",
      "\n",
      "le point a fait : None pas avant d'arriver à [0, 0]\n",
      "------------------------------------------------------\n",
      "\n",
      "le point a fait : None pas avant d'arriver à [0, 0]\n",
      "------------------------------------------------------\n",
      "\n"
     ]
    }
   ],
   "source": [
    "def marcheAleatoire(tab):\n",
    "    i = 1\n",
    "    position = pasAleatoire(tab)\n",
    "\n",
    "    while position != [0, 0] and i < 1000:\n",
    "        position = pasAleatoire(position)\n",
    "        i+=1\n",
    "        \n",
    "    if(position == [0, 0]):\n",
    "        return i\n",
    "    \n",
    "for i in range(5):\n",
    "    point = [0, 0]\n",
    "    print(\"le point a fait :\", marcheAleatoire(point), \"pas avant d'arriver à [0, 0]\")\n",
    "    print(\"------------------------------------------------------\")\n",
    "    print(\"\")"
   ]
  },
  {
   "cell_type": "markdown",
   "id": "96f3d266",
   "metadata": {},
   "source": [
    "<h3>Voici l'animation de la marche aléatoire grâce à géogebra :</h3>"
   ]
  },
  {
   "cell_type": "code",
   "execution_count": 12,
   "id": "28457138",
   "metadata": {},
   "outputs": [
    {
     "data": {
      "text/html": [
       "<iframe width=\"800\" height=\"600\" src=\"https://www.geogebra.org/m/jWqRnRwv\" style=\"border: 1px solid black\"></iframe>"
      ],
      "text/plain": [
       "<IPython.core.display.HTML object>"
      ]
     },
     "execution_count": 12,
     "metadata": {},
     "output_type": "execute_result"
    }
   ],
   "source": [
    "fig01 = \"\"\"<iframe width=\"800\" height=\"600\" src=\"https://www.geogebra.org/m/jWqRnRwv\" style=\"border: 1px solid black\"></iframe>\"\"\"\n",
    "display.HTML(fig01)"
   ]
  },
  {
   "cell_type": "markdown",
   "id": "0e04022c",
   "metadata": {},
   "source": [
    "<br><br><br><br><br>"
   ]
  },
  {
   "cell_type": "markdown",
   "id": "5e9e9599",
   "metadata": {},
   "source": [
    "<h3>3. <code>generetorTabMarcheAleatoire</code></h3>\n",
    "<br>\n",
    "Cette fonction permet de générer un tableau de marche Aléatoire.<br> C'est-à-dire, qu'on modélise <code>n</code> essai où on execute la fonction <code>marcheAleatoire</code>.\n",
    "<br><br>\n",
    "Si la marche réussie en d'autres termes, si le point est revenue à son point d'origine, on ajoute le nombre de pas effectué dans un tableau qu'on retourne."
   ]
  },
  {
   "cell_type": "code",
   "execution_count": 13,
   "id": "953f58f6",
   "metadata": {},
   "outputs": [
    {
     "name": "stdout",
     "output_type": "stream",
     "text": [
      "Pour l'essai N° 1 le point a fait : 2 pas avant d'arriver à [0, 0]\n",
      "----------------------------------------------------------------------\n",
      "\n",
      "Pour l'essai N° 2 le point a fait : 8 pas avant d'arriver à [0, 0]\n",
      "----------------------------------------------------------------------\n",
      "\n",
      "Pour l'essai N° 3 le point a fait : 14 pas avant d'arriver à [0, 0]\n",
      "----------------------------------------------------------------------\n",
      "\n",
      "Pour l'essai N° 4 le point a fait : 4 pas avant d'arriver à [0, 0]\n",
      "----------------------------------------------------------------------\n",
      "\n",
      "Pour l'essai N° 5 le point a fait : 2 pas avant d'arriver à [0, 0]\n",
      "----------------------------------------------------------------------\n",
      "\n"
     ]
    }
   ],
   "source": [
    "def generetorTabMarcheAleatoire(n):\n",
    "    i = 0\n",
    "    tabMarcheAleatoire = []\n",
    "    \n",
    "    while len(tabMarcheAleatoire) < n:\n",
    "        essai = marcheAleatoire([0, 0])\n",
    "        \n",
    "        if essai == None:\n",
    "            essai = marcheAleatoire([0, 0])\n",
    "\n",
    "        else:\n",
    "            tabMarcheAleatoire.append(essai)\n",
    "        i+=1\n",
    "\n",
    "    return tabMarcheAleatoire\n",
    "\n",
    "\n",
    "nbrEssai = 0\n",
    "for i in generetorTabMarcheAleatoire(5):\n",
    "    nbrEssai += 1\n",
    "    print(\"Pour l'essai N°\",nbrEssai , \"le point a fait :\", i, \"pas avant d'arriver à [0, 0]\")\n",
    "    print(\"----------------------------------------------------------------------\")\n",
    "    print(\"\")"
   ]
  },
  {
   "cell_type": "markdown",
   "id": "5d230280",
   "metadata": {},
   "source": [
    "<h3>Informatiquement, il est probable qu'avec une marche aléatoire, le point revienne à son origine.</h3>\n",
    "<h3>Mais quelle est sa probabilité ?</h3>"
   ]
  },
  {
   "cell_type": "markdown",
   "id": "fbc88f3b",
   "metadata": {},
   "source": [
    "<br><br><br><br><br>"
   ]
  },
  {
   "cell_type": "markdown",
   "id": "a225af5b",
   "metadata": {},
   "source": [
    "<div style=\"border:1px solid black; padding:1%; font-size:150% ; text-align:center; background-color:lightblue; border-radius:50px; width:80%;\">2. Probabilité de la marche Aléatoire.</div>\n",
    "<br><br>\n",
    "Nous allons maintenant determiner la probabilité de la marche Aléatoire.\n",
    "<br><br>\n",
    "Un point à l'origine du repère à <strong>x = 0</strong> et <strong>y = 0</strong>."
   ]
  },
  {
   "cell_type": "markdown",
   "id": "42ea2fc5",
   "metadata": {},
   "source": [
    "<img src=\"point-Origine.png\" style=\"width:400px; margin-left:0px;\" />"
   ]
  },
  {
   "cell_type": "markdown",
   "id": "becaf6e0",
   "metadata": {},
   "source": [
    "D'après l'énonce, le point se déplace de manière équiprobable, donc il peut seulement se déplacer d'un pas sur 4 directions différentes : <strong>Droite, Bas, Gauche et Haut</strong>.\n",
    "<br><br>"
   ]
  },
  {
   "cell_type": "markdown",
   "id": "c55454d8",
   "metadata": {},
   "source": [
    "<img src=\"point-Orgine-direction.png\" style=\"width:400px; margin-left:0px;\" />"
   ]
  },
  {
   "cell_type": "markdown",
   "id": "dba10ffa",
   "metadata": {},
   "source": [
    "Donc, la probabilité que le point se déplace d'un pas vers la droite est de <strong>1/4</strong> car il se déplace 1 pas sur 4 directions possibles.\n",
    "<br><br>\n",
    "Mais la probabilité que le point se déplace vers la gauche et donc revienne à son point d'origine est aussi de <strong>1/4</strong> car on 4 possibilités, 4 directions."
   ]
  },
  {
   "cell_type": "markdown",
   "id": "d420a23f",
   "metadata": {},
   "source": [
    "<img src=\"point-T1.png\" style=\"width:400px; margin-left:0px;\" />"
   ]
  },
  {
   "cell_type": "markdown",
   "id": "6176fcf1",
   "metadata": {},
   "source": [
    "Ainsi, peu importe la direction du point, sa probabilité sera toujours de 1/4 donc on en deduit que toutes les directions possibles du point sont des <strong>évènements indépendants et identiquement distribués</strong>.\n",
    "<br><br>\n",
    "\n",
    "On considère <strong>A1</strong> qui correspond à l'évènement où le point se deplace de <code>x=0</code> à <code>x=1</code>\n",
    "<br>\n",
    "On considère <strong>A2</strong> qui correspond à l'évènement où le point se deplace de <code>x=1</code> à <code>x=0</code>\n",
    "<br><br>\n",
    "P(A1) = 1/4 et P(A2) = 1/4.\n",
    "<br><br>\n",
    "Donc P(A1 ∩ A2) = P(A1) x P(A2) = 1/4 x 1/4 = 0,0625.\n",
    "<h5>La probablité que le point retourne à (0;0) est de 0,0625 si le nombre de pas = 2.</h5>"
   ]
  },
  {
   "cell_type": "markdown",
   "id": "deae45a7",
   "metadata": {},
   "source": [
    "Nous avons démontrer la probabilité que le point revienne à l'origine du repère pour nombre de pas = 2.\n",
    "<br>\n",
    "Mais si le nombre de pas = n\n",
    "Dont n ∈ ℕ - {0}.\n",
    "<h3>Quelle serait sa probabilité ?</h3>"
   ]
  },
  {
   "cell_type": "markdown",
   "id": "f456b9be",
   "metadata": {},
   "source": [
    "pour ∀ n ∈ ℕ - {0}\n",
    "<br>\n",
    "La probabilité que le point revienne à (0;0) est :\n",
    "<br>\n",
    "P(A1 ∩ A2 ∩ ... ∩ An)\n",
    "<br>\n",
    "dont A1 et A2 correspond au 2 premiers pas du point et An au dernier pas.\n",
    "<br><br>\n",
    "Or on sait que tous les pas possibles du point sont des évènements indépendant et identiquement distribués donc ils ont la même probabilité.\n",
    "<h5>La probabilité que le point revienne à l'origine du repère est :\n",
    "[P(A1)]^n\n",
    "</h5>"
   ]
  },
  {
   "cell_type": "markdown",
   "id": "74c336a2",
   "metadata": {},
   "source": [
    "On connait la formule pour calculer la probabilité de la marche aléatoire donc on va l'utiliser pour déterminer la probabilité de chaque essai de la fonction <code>generetorTabMarcheAleatoire</code> :"
   ]
  },
  {
   "cell_type": "code",
   "execution_count": 14,
   "id": "5d89b949",
   "metadata": {},
   "outputs": [
    {
     "name": "stdout",
     "output_type": "stream",
     "text": [
      "Pour l'essai N° 1 le point a fait : 4 pas avant d'arriver à l'origine et\n",
      "sa probabilité est de : 0.00390625\n",
      "----------------------------------------------------------------------\n",
      "\n",
      "Pour l'essai N° 2 le point a fait : 2 pas avant d'arriver à l'origine et\n",
      "sa probabilité est de : 0.0625\n",
      "----------------------------------------------------------------------\n",
      "\n",
      "Pour l'essai N° 3 le point a fait : 6 pas avant d'arriver à l'origine et\n",
      "sa probabilité est de : 0.000244140625\n",
      "----------------------------------------------------------------------\n",
      "\n",
      "Pour l'essai N° 4 le point a fait : 2 pas avant d'arriver à l'origine et\n",
      "sa probabilité est de : 0.0625\n",
      "----------------------------------------------------------------------\n",
      "\n",
      "Pour l'essai N° 5 le point a fait : 16 pas avant d'arriver à l'origine et\n",
      "sa probabilité est de : 2.3283064365386963e-10\n",
      "----------------------------------------------------------------------\n",
      "\n"
     ]
    }
   ],
   "source": [
    "nbrEssai = 0\n",
    "for i in generetorTabMarcheAleatoire(5):\n",
    "    nbrEssai += 1\n",
    "    print(\"Pour l'essai N°\",nbrEssai , \"le point a fait :\", i, \"pas avant d'arriver à l'origine et\\nsa probabilité est de :\", pow(1/4, i))\n",
    "    print(\"----------------------------------------------------------------------\")\n",
    "    print(\"\")"
   ]
  },
  {
   "cell_type": "markdown",
   "id": "356bf703",
   "metadata": {},
   "source": [
    "<div style=\"border:1px solid black; padding:2%; font-size:200% ; text-align:center; background-color:red; border-radius:50px\">Conclusion</div>"
   ]
  },
  {
   "cell_type": "markdown",
   "id": "63d1457c",
   "metadata": {},
   "source": [
    "<h3>Pour conclure : avec une marche aléatoire, un point peut revenir à son point d'origine et la probabilité que cela arrive est : <br> Pour n = nombre de pas du point et A1 = la probabilité d'un pas = 1/4.</h3>\n",
    "<h3>P = [P(A1)]^n</h3>"
   ]
  },
  {
   "cell_type": "code",
   "execution_count": null,
   "id": "1561d581",
   "metadata": {},
   "outputs": [],
   "source": []
  }
 ],
 "metadata": {
  "kernelspec": {
   "display_name": "Python 3",
   "language": "python",
   "name": "python3"
  },
  "language_info": {
   "codemirror_mode": {
    "name": "ipython",
    "version": 3
   },
   "file_extension": ".py",
   "mimetype": "text/x-python",
   "name": "python",
   "nbconvert_exporter": "python",
   "pygments_lexer": "ipython3",
   "version": "3.8.8"
  }
 },
 "nbformat": 4,
 "nbformat_minor": 5
}
